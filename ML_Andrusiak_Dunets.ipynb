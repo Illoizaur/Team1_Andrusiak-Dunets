{
  "cells": [
    {
      "cell_type": "markdown",
      "metadata": {
        "id": "view-in-github",
        "colab_type": "text"
      },
      "source": [
        "<a href=\"https://colab.research.google.com/github/Illoizaur/Team1_Andrusiak-Dunets/blob/main/ML_Andrusiak_Dunets.ipynb\" target=\"_parent\"><img src=\"https://colab.research.google.com/assets/colab-badge.svg\" alt=\"Open In Colab\"/></a>"
      ]
    },
    {
      "cell_type": "markdown",
      "metadata": {
        "id": "1OXXe9x-Pl2T"
      },
      "source": [
        "# Крок 1: Ознайомлення з даними"
      ]
    },
    {
      "cell_type": "markdown",
      "metadata": {
        "id": "e7DxH8v7JVk-"
      },
      "source": [
        "Підключаєм диск та імпортуєм певні бібліотеки"
      ]
    },
    {
      "cell_type": "code",
      "execution_count": null,
      "metadata": {
        "colab": {
          "base_uri": "https://localhost:8080/"
        },
        "id": "PRuyb33KI1Go",
        "outputId": "20e65c65-33b8-43c3-e96c-a7d5d2705864"
      },
      "outputs": [
        {
          "output_type": "stream",
          "name": "stdout",
          "text": [
            "Drive already mounted at /content/drive/; to attempt to forcibly remount, call drive.mount(\"/content/drive/\", force_remount=True).\n"
          ]
        }
      ],
      "source": [
        "from google.colab import drive\n",
        "drive.mount(\"/content/drive/\")\n",
        "\n",
        "import pandas as pd\n",
        "import matplotlib.pyplot as plt\n",
        "import seaborn as sns\n",
        "\n",
        "plt.style.use('ggplot')"
      ]
    },
    {
      "cell_type": "markdown",
      "metadata": {
        "id": "vDCe3BiZJeCB"
      },
      "source": [
        "Завантажуєм тестовий та тренувальні набори"
      ]
    },
    {
      "cell_type": "code",
      "execution_count": null,
      "metadata": {
        "id": "osYT7L8sI8Wv"
      },
      "outputs": [],
      "source": [
        "train_df = pd.read_csv('/content/drive/MyDrive/Colab Notebooks/train.csv')\n",
        "test_df = pd.read_csv('/content/drive/MyDrive/Colab Notebooks/test.csv')"
      ]
    },
    {
      "cell_type": "markdown",
      "metadata": {
        "id": "GahwmsoYJpt2"
      },
      "source": [
        "Ознайомлюємось із структурою"
      ]
    },
    {
      "cell_type": "code",
      "execution_count": null,
      "metadata": {
        "colab": {
          "base_uri": "https://localhost:8080/"
        },
        "id": "9auEnuBCJtTb",
        "outputId": "db352156-5017-41b3-8be1-46dcbcbc3680"
      },
      "outputs": [
        {
          "output_type": "stream",
          "name": "stdout",
          "text": [
            "Перші 5 рядків навчального набору даних:\n",
            "   id keyword location                                               text  \\\n",
            "0   1     NaN      NaN  Our Deeds are the Reason of this #earthquake M...   \n",
            "1   4     NaN      NaN             Forest fire near La Ronge Sask. Canada   \n",
            "2   5     NaN      NaN  All residents asked to 'shelter in place' are ...   \n",
            "3   6     NaN      NaN  13,000 people receive #wildfires evacuation or...   \n",
            "4   7     NaN      NaN  Just got sent this photo from Ruby #Alaska as ...   \n",
            "\n",
            "   target  \n",
            "0       1  \n",
            "1       1  \n",
            "2       1  \n",
            "3       1  \n",
            "4       1  \n",
            "\n",
            "Перші 5 рядків тестового набору даних:\n",
            "   id keyword location                                               text\n",
            "0   0     NaN      NaN                 Just happened a terrible car crash\n",
            "1   2     NaN      NaN  Heard about #earthquake is different cities, s...\n",
            "2   3     NaN      NaN  there is a forest fire at spot pond, geese are...\n",
            "3   9     NaN      NaN           Apocalypse lighting. #Spokane #wildfires\n",
            "4  11     NaN      NaN      Typhoon Soudelor kills 28 in China and Taiwan\n"
          ]
        }
      ],
      "source": [
        "print(\"Перші 5 рядків навчального набору даних:\")\n",
        "print(train_df.head())\n",
        "print(\"\\nПерші 5 рядків тестового набору даних:\")\n",
        "print(test_df.head())"
      ]
    },
    {
      "cell_type": "markdown",
      "metadata": {
        "id": "_zbN_0lIJ2hP"
      },
      "source": [
        "Глянем на розмірність..."
      ]
    },
    {
      "cell_type": "code",
      "execution_count": null,
      "metadata": {
        "colab": {
          "base_uri": "https://localhost:8080/"
        },
        "id": "x8gRv15cJ6T0",
        "outputId": "e035ba5e-ec38-4ca0-efcc-1208093282e2"
      },
      "outputs": [
        {
          "output_type": "stream",
          "name": "stdout",
          "text": [
            "Розмір навчального набору даних: (7613, 5)\n",
            "Розмір тестового набору даних: (3263, 4)\n"
          ]
        }
      ],
      "source": [
        "print(f\"Розмір навчального набору даних: {train_df.shape}\")\n",
        "print(f\"Розмір тестового набору даних: {test_df.shape}\")"
      ]
    },
    {
      "cell_type": "markdown",
      "metadata": {
        "id": "nE83CUJKKC3G"
      },
      "source": [
        "Проаналізуємо розподіл цільової змінної target у навчальному наборі даних, щоб оцінити збалансованість класів"
      ]
    },
    {
      "cell_type": "code",
      "execution_count": null,
      "metadata": {
        "colab": {
          "base_uri": "https://localhost:8080/",
          "height": 760
        },
        "id": "WNr_9nQuKJcH",
        "outputId": "d73f5e2f-6007-46d1-9960-dcd506e8e581"
      },
      "outputs": [
        {
          "output_type": "stream",
          "name": "stdout",
          "text": [
            "\n",
            "Розподіл цільової змінної:\n",
            "target\n",
            "0    4342\n",
            "1    3271\n",
            "Name: count, dtype: int64\n"
          ]
        },
        {
          "output_type": "stream",
          "name": "stderr",
          "text": [
            "<ipython-input-30-d9cdfc22c29e>:6: FutureWarning: \n",
            "\n",
            "Passing `palette` without assigning `hue` is deprecated and will be removed in v0.14.0. Assign the `x` variable to `hue` and set `legend=False` for the same effect.\n",
            "\n",
            "  sns.barplot(x=target_counts.index, y=target_counts.values, palette=['green', 'red'])\n"
          ]
        },
        {
          "output_type": "display_data",
          "data": {
            "text/plain": [
              "<Figure size 800x600 with 1 Axes>"
            ],
            "image/png": "[encoded data removed]"
          },
          "metadata": {}
        }
      ],
      "source": [
        "target_counts = train_df['target'].value_counts()\n",
        "print(\"\\nРозподіл цільової змінної:\")\n",
        "print(target_counts)\n",
        "\n",
        "plt.figure(figsize=(8, 6))\n",
        "sns.barplot(x=target_counts.index, y=target_counts.values, palette=['green', 'red'])\n",
        "plt.xticks([0, 1], ['Не катастрофа', 'Катастрофа'])\n",
        "plt.title('Розподіл цільової змінної')\n",
        "plt.xlabel('Цільова змінна')\n",
        "plt.ylabel('Кількість')\n",
        "plt.show()"
      ]
    },
    {
      "cell_type": "markdown",
      "metadata": {
        "id": "4N7AWLgnQKsf"
      },
      "source": [
        "Проаналізуємо довжину твітів за кількістю символів та слів для обох класів цільової змінної"
      ]
    },
    {
      "cell_type": "code",
      "execution_count": null,
      "metadata": {
        "colab": {
          "base_uri": "https://localhost:8080/",
          "height": 1000
        },
        "id": "lzIuB1pUQYxP",
        "outputId": "220c9c0d-2eb5-4555-ab15-a9dd21fec41f"
      },
      "outputs": [
        {
          "output_type": "display_data",
          "data": {
            "text/plain": [
              "<Figure size 1200x600 with 1 Axes>"
            ],
            "image/png": "[encoded data removed]"
          },
          "metadata": {}
        },
        {
          "output_type": "display_data",
          "data": {
            "text/plain": [
              "<Figure size 1200x600 with 1 Axes>"
            ],
            "image/png": "[encoded data removed]"
          },
          "metadata": {}
        },
        {
          "output_type": "stream",
          "name": "stdout",
          "text": [
            "\n",
            "Середня кількість слів у твітах про катастрофи: 15.167532864567411\n",
            "Середня кількість слів у твітах, що не стосуються катастроф: 14.704744357438969\n"
          ]
        }
      ],
      "source": [
        "train_df['char_count'] = train_df['text'].apply(len)\n",
        "\n",
        "train_df['word_count'] = train_df['text'].apply(lambda x: len(x.split()))\n",
        "\n",
        "plt.figure(figsize=(12, 6))\n",
        "sns.histplot(train_df[train_df['target'] == 0]['char_count'], label='Не катастрофа', color='green')\n",
        "sns.histplot(train_df[train_df['target'] == 1]['char_count'], label='Катастрофа', color='red')\n",
        "plt.title('Розподіл кількості символів у твітах')\n",
        "plt.xlabel('Кількість символів')\n",
        "plt.ylabel('Частота')\n",
        "plt.legend()\n",
        "plt.show()\n",
        "\n",
        "plt.figure(figsize=(12, 6))\n",
        "sns.histplot(train_df[train_df['target'] == 0]['word_count'], label='Не катастрофа', color='green')\n",
        "sns.histplot(train_df[train_df['target'] == 1]['word_count'], label='Катастрофа', color='red')\n",
        "plt.title('Розподіл кількості слів у твітах')\n",
        "plt.xlabel('Кількість слів')\n",
        "plt.ylabel('Частота')\n",
        "plt.legend()\n",
        "plt.show()\n",
        "\n",
        "print(\"\\nСередня кількість слів у твітах про катастрофи:\", train_df[train_df['target'] == 1]['word_count'].mean())\n",
        "print(\"Середня кількість слів у твітах, що не стосуються катастроф:\", train_df[train_df['target'] == 0]['word_count'].mean())"
      ]
    },
    {
      "cell_type": "markdown",
      "metadata": {
        "id": "5PP9Ff6sQ3_1"
      },
      "source": [
        "Для аналізу словникового запасу нам знадобиться обробити текст, наприклад, видалити стоп-слова. Однак на цьому етапі нам слід отримати загальне уявлення про найчастіше вживані слова."
      ]
    },
    {
      "cell_type": "code",
      "execution_count": null,
      "metadata": {
        "colab": {
          "base_uri": "https://localhost:8080/"
        },
        "id": "qGGor1urQ3jz",
        "outputId": "278455e4-79d5-4820-f8ed-51c0d52479ec"
      },
      "outputs": [
        {
          "output_type": "stream",
          "name": "stdout",
          "text": [
            "\n",
            "Найчастіші слова у твітах про катастрофи:\n",
            "[('-', 389), ('fire', 151), ('via', 117), ('...', 106), ('&amp;', 105), ('suicide', 103), ('disaster', 97), ('police', 94), ('people', 93), ('killed', 92), ('like', 91), ('california', 88), ('families', 81), ('two', 71), ('storm', 71), ('train', 71), ('2', 67), ('bomb', 67), ('emergency', 66), ('get', 66)]\n",
            "\n",
            "Найчастіші слова у твітах, що не стосуються катастроф:\n",
            "[('-', 374), ('like', 250), ('&amp;', 190), ('??', 183), ('new', 163), ('get', 161), ('one', 116), ('body', 106), ('via', 97), ('would', 94), ('|', 91), ('love', 85), ('got', 82), ('people', 81), ('full', 81), ('see', 79), ('know', 78), ('2', 78), ('video', 76), ('back', 75)]\n"
          ]
        },
        {
          "output_type": "stream",
          "name": "stderr",
          "text": [
            "[nltk_data] Downloading package stopwords to /root/nltk_data...\n",
            "[nltk_data]   Package stopwords is already up-to-date!\n"
          ]
        }
      ],
      "source": [
        "from collections import Counter\n",
        "import nltk\n",
        "from nltk.corpus import stopwords\n",
        "nltk.download('stopwords')\n",
        "stop_words = set(stopwords.words('english'))\n",
        "\n",
        "def count_common_words(df, column, n=20):\n",
        "    words = Counter()\n",
        "    for text in df[column]:\n",
        "        if isinstance(text, str):\n",
        "            for word in text.lower().split():\n",
        "                if word not in stop_words:\n",
        "                    words[word] += 1\n",
        "    return words.most_common(n)\n",
        "\n",
        "common_words_disaster = count_common_words(train_df[train_df['target'] == 1], 'text')\n",
        "print(\"\\nНайчастіші слова у твітах про катастрофи:\")\n",
        "print(common_words_disaster)\n",
        "\n",
        "common_words_not_disaster = count_common_words(train_df[train_df['target'] == 0], 'text')\n",
        "print(\"\\nНайчастіші слова у твітах, що не стосуються катастроф:\")\n",
        "print(common_words_not_disaster)"
      ]
    },
    {
      "cell_type": "markdown",
      "metadata": {
        "id": "XEU9bSafRO6x"
      },
      "source": [
        "Проаналізуємо наявність URL-адрес, згадок (@) та хештегів (#) у твітах:"
      ]
    },
    {
      "cell_type": "code",
      "execution_count": null,
      "metadata": {
        "colab": {
          "base_uri": "https://localhost:8080/"
        },
        "id": "jk7BUruURPGt",
        "outputId": "d850b219-0a8e-479d-e411-b724380624c0"
      },
      "outputs": [
        {
          "output_type": "stream",
          "name": "stdout",
          "text": [
            "\n",
            "Кількість URL-адрес у твітах про катастрофи: 2519\n",
            "Кількість згадок (@) у твітах про катастрофи: 890\n",
            "Кількість хештегів (#) у твітах про катастрофи: 1642\n",
            "\n",
            "Кількість URL-адрес у твітах, що не стосуються катастроф: 2204\n",
            "Кількість згадок (@) у твітах, що не стосуються катастроф: 1825\n",
            "Кількість хештегів (#) у твітах, що не стосуються катастроф: 1688\n"
          ]
        }
      ],
      "source": [
        "def count_special_elements(df, column):\n",
        "    urls = df[column].str.findall(r'(https?://\\S+|www\\.\\S+)')\n",
        "    mentions = df[column].str.findall(r'@\\w+')\n",
        "    hashtags = df[column].str.findall(r'#\\w+')\n",
        "\n",
        "    return urls.apply(len).sum(), mentions.apply(len).sum(), hashtags.apply(len).sum()\n",
        "\n",
        "urls_disaster, mentions_disaster, hashtags_disaster = count_special_elements(train_df[train_df['target'] == 1], 'text')\n",
        "print(f\"\\nКількість URL-адрес у твітах про катастрофи: {urls_disaster}\")\n",
        "print(f\"Кількість згадок (@) у твітах про катастрофи: {mentions_disaster}\")\n",
        "print(f\"Кількість хештегів (#) у твітах про катастрофи: {hashtags_disaster}\")\n",
        "\n",
        "urls_not_disaster, mentions_not_disaster, hashtags_not_disaster = count_special_elements(train_df[train_df['target'] == 0], 'text')\n",
        "print(f\"\\nКількість URL-адрес у твітах, що не стосуються катастроф: {urls_not_disaster}\")\n",
        "print(f\"Кількість згадок (@) у твітах, що не стосуються катастроф: {mentions_not_disaster}\")\n",
        "print(f\"Кількість хештегів (#) у твітах, що не стосуються катастроф: {hashtags_not_disaster}\")"
      ]
    },
    {
      "cell_type": "markdown",
      "metadata": {
        "id": "twTNBppqRXwO"
      },
      "source": [
        "Проаналізуємо стовпець keyword:"
      ]
    },
    {
      "cell_type": "code",
      "execution_count": null,
      "metadata": {
        "colab": {
          "base_uri": "https://localhost:8080/"
        },
        "id": "H5eodxguRXnY",
        "outputId": "72f46419-1a32-451e-fc7c-6e33b470dd21"
      },
      "outputs": [
        {
          "output_type": "stream",
          "name": "stdout",
          "text": [
            "\n",
            "Кількість унікальних ключових слів у навчальному наборі даних: 221\n",
            "\n",
            "Топ-20 найчастіших ключових слів:\n",
            "keyword\n",
            "fatalities     45\n",
            "deluge         42\n",
            "armageddon     42\n",
            "damage         41\n",
            "body%20bags    41\n",
            "harm           41\n",
            "sinking        41\n",
            "evacuate       40\n",
            "outbreak       40\n",
            "fear           40\n",
            "siren          40\n",
            "windstorm      40\n",
            "collided       40\n",
            "twister        40\n",
            "hellfire       39\n",
            "famine         39\n",
            "flames         39\n",
            "weapon         39\n",
            "wreckage       39\n",
            "sunk           39\n",
            "Name: count, dtype: int64\n",
            "\n",
            "Кількість пропущених значень у стовпці 'keyword': 61\n"
          ]
        }
      ],
      "source": [
        "print(\"\\nКількість унікальних ключових слів у навчальному наборі даних:\", train_df['keyword'].nunique())\n",
        "\n",
        "keyword_counts = train_df['keyword'].value_counts().nlargest(20)\n",
        "print(\"\\nТоп-20 найчастіших ключових слів:\")\n",
        "print(keyword_counts)\n",
        "\n",
        "print(\"\\nКількість пропущених значень у стовпці 'keyword':\", train_df['keyword'].isnull().sum())"
      ]
    },
    {
      "cell_type": "markdown",
      "metadata": {
        "id": "j5D9KL6TRlOv"
      },
      "source": [
        "Проаналізуємо стовпець location:"
      ]
    },
    {
      "cell_type": "code",
      "execution_count": null,
      "metadata": {
        "colab": {
          "base_uri": "https://localhost:8080/"
        },
        "id": "jEISpRsoRimA",
        "outputId": "ee008a4b-3b21-4191-8007-b22e3a28b515"
      },
      "outputs": [
        {
          "output_type": "stream",
          "name": "stdout",
          "text": [
            "\n",
            "Кількість унікальних місцезнаходжень у навчальному наборі даних: 3341\n",
            "Кількість пропущених значень у стовпці 'location': 2533\n",
            "\n",
            "Топ-20 найчастіших місцезнаходжень:\n",
            "location\n",
            "USA                104\n",
            "New York            71\n",
            "United States       50\n",
            "London              45\n",
            "Canada              29\n",
            "Nigeria             28\n",
            "UK                  27\n",
            "Los Angeles, CA     26\n",
            "India               24\n",
            "Mumbai              22\n",
            "Washington, DC      21\n",
            "Kenya               20\n",
            "Worldwide           19\n",
            "Chicago, IL         18\n",
            "Australia           18\n",
            "California          17\n",
            "New York, NY        15\n",
            "California, USA     15\n",
            "Everywhere          15\n",
            "San Francisco       14\n",
            "Name: count, dtype: int64\n"
          ]
        }
      ],
      "source": [
        "print(\"\\nКількість унікальних місцезнаходжень у навчальному наборі даних:\", train_df['location'].nunique())\n",
        "\n",
        "print(\"Кількість пропущених значень у стовпці 'location':\", train_df['location'].isnull().sum())\n",
        "\n",
        "location_counts = train_df['location'].value_counts().nlargest(20)\n",
        "print(\"\\nТоп-20 найчастіших місцезнаходжень:\")\n",
        "print(location_counts)"
      ]
    },
    {
      "cell_type": "markdown",
      "metadata": {
        "id": "ENDQNv5uRtW6"
      },
      "source": [
        "Перевіримо кількість пропущених значень у всіх стовпцях навчального набору даних:"
      ]
    },
    {
      "cell_type": "code",
      "execution_count": null,
      "metadata": {
        "colab": {
          "base_uri": "https://localhost:8080/"
        },
        "id": "18etjcPGRtOy",
        "outputId": "bb125c49-fe53-463b-b072-981dfee842d2"
      },
      "outputs": [
        {
          "output_type": "stream",
          "name": "stdout",
          "text": [
            "\n",
            "Кількість пропущених значень у кожному стовпці навчального набору даних:\n",
            "id               0\n",
            "keyword         61\n",
            "location      2533\n",
            "text             0\n",
            "target           0\n",
            "char_count       0\n",
            "word_count       0\n",
            "dtype: int64\n",
            "\n",
            "Кількість пропущених значень у кожному стовпці тестового набору даних:\n",
            "id             0\n",
            "keyword       26\n",
            "location    1105\n",
            "text           0\n",
            "dtype: int64\n"
          ]
        }
      ],
      "source": [
        "print(\"\\nКількість пропущених значень у кожному стовпці навчального набору даних:\")\n",
        "print(train_df.isnull().sum())\n",
        "\n",
        "print(\"\\nКількість пропущених значень у кожному стовпці тестового набору даних:\")\n",
        "print(test_df.isnull().sum())"
      ]
    },
    {
      "cell_type": "markdown",
      "metadata": {
        "id": "FJY2scTwR43u"
      },
      "source": [
        "# Крок 2: Попередня обробка тексту"
      ]
    },
    {
      "cell_type": "markdown",
      "metadata": {
        "id": "Visv6AYoR-ul"
      },
      "source": [
        "На цьому кроці ми підготуємо текстові дані для подальшого аналізу та моделювання. Ми виконаємо наступні операції :\n",
        "\n",
        "- Перетворення тексту на нижній регістр.\n",
        "- Видалення URL-адрес.\n",
        "- Видалення згадок (@) та хештегів (#).\n",
        "- Видалення розділових знаків.\n",
        "- Видалення стоп-слів.\n",
        "- Стемінг або лематизація (залежно від подальшого використання)."
      ]
    },
    {
      "cell_type": "code",
      "source": [
        "import nltk\n",
        "\n",
        "nltk.download('wordnet')\n",
        "nltk.download('omw-1.4')\n",
        "print(\"Ресурс 'wordnet' успішно завантажено.\")"
      ],
      "metadata": {
        "colab": {
          "base_uri": "https://localhost:8080/"
        },
        "id": "RA_hOyMNm0gh",
        "outputId": "098d304d-9588-42e8-fba5-b9f699349c72"
      },
      "execution_count": null,
      "outputs": [
        {
          "output_type": "stream",
          "name": "stderr",
          "text": [
            "[nltk_data] Downloading package wordnet to /root/nltk_data...\n",
            "[nltk_data] Downloading package omw-1.4 to /root/nltk_data...\n"
          ]
        },
        {
          "output_type": "stream",
          "name": "stdout",
          "text": [
            "Ресурс 'wordnet' успішно завантажено.\n"
          ]
        }
      ]
    },
    {
      "cell_type": "code",
      "execution_count": null,
      "metadata": {
        "id": "RfZIeNBTTcwi"
      },
      "outputs": [],
      "source": [
        "from nltk.corpus import stopwords\n",
        "from nltk.stem import PorterStemmer, WordNetLemmatizer\n",
        "from bs4 import BeautifulSoup\n",
        "import re\n",
        "import string\n",
        "\n",
        "stop_words = set(stopwords.words('english'))\n",
        "stemmer = PorterStemmer()\n",
        "lemmatizer = WordNetLemmatizer()\n",
        "\n",
        "def preprocess_text(text):\n",
        "    if isinstance(text, str):\n",
        "        text = text.lower()\n",
        "        text = re.sub(r'https?://\\S+|www\\.\\S+', '', text)\n",
        "        text = re.sub(r'@\\w+', '', text)\n",
        "        text = re.sub(r'#([a-zA-Z0-9_]+)', r'\\1', text)\n",
        "        text = text.translate(str.maketrans('', '', string.punctuation))\n",
        "        text = BeautifulSoup(text, \"html.parser\").get_text()\n",
        "\n",
        "        # стемінг (можна буде потім замінити на лематизацію)\n",
        "        # text = ' '.join([stemmer.stem(word) for word in text.split() if word not in stop_words])\n",
        "        text = ' '.join([lemmatizer.lemmatize(word) for word in text.split() if word not in stop_words])\n",
        "        return text\n",
        "    return ''"
      ]
    },
    {
      "cell_type": "markdown",
      "metadata": {
        "id": "Stpb8NDzURGQ"
      },
      "source": [
        "Переглянемо як ці зміни вплинули на наші дані"
      ]
    },
    {
      "cell_type": "code",
      "execution_count": null,
      "metadata": {
        "colab": {
          "base_uri": "https://localhost:8080/"
        },
        "id": "1tTpuRQjUQzf",
        "outputId": "17c5989b-18d9-498c-fcbe-febec4141a1d"
      },
      "outputs": [
        {
          "output_type": "stream",
          "name": "stdout",
          "text": [
            "\n",
            "Перші 5 рядків навчального набору даних до та після попередньої обробки:\n",
            "                                                text  \\\n",
            "0  Our Deeds are the Reason of this #earthquake M...   \n",
            "1             Forest fire near La Ronge Sask. Canada   \n",
            "2  All residents asked to 'shelter in place' are ...   \n",
            "3  13,000 people receive #wildfires evacuation or...   \n",
            "4  Just got sent this photo from Ruby #Alaska as ...   \n",
            "\n",
            "                                      processed_text  \n",
            "0         deed reason earthquake may allah forgive u  \n",
            "1              forest fire near la ronge sask canada  \n",
            "2  resident asked shelter place notified officer ...  \n",
            "3  13000 people receive wildfire evacuation order...  \n",
            "4  got sent photo ruby alaska smoke wildfire pour...  \n",
            "\n",
            "Перші 5 рядків тестового набору даних до та після попередньої обробки:\n",
            "                                                text  \\\n",
            "0                 Just happened a terrible car crash   \n",
            "1  Heard about #earthquake is different cities, s...   \n",
            "2  there is a forest fire at spot pond, geese are...   \n",
            "3           Apocalypse lighting. #Spokane #wildfires   \n",
            "4      Typhoon Soudelor kills 28 in China and Taiwan   \n",
            "\n",
            "                                      processed_text  \n",
            "0                        happened terrible car crash  \n",
            "1  heard earthquake different city stay safe ever...  \n",
            "2  forest fire spot pond goose fleeing across str...  \n",
            "3               apocalypse lighting spokane wildfire  \n",
            "4              typhoon soudelor kill 28 china taiwan  \n"
          ]
        }
      ],
      "source": [
        "train_df['processed_text'] = train_df['text'].apply(preprocess_text)\n",
        "test_df['processed_text'] = test_df['text'].apply(preprocess_text)\n",
        "\n",
        "print(\"\\nПерші 5 рядків навчального набору даних до та після попередньої обробки:\")\n",
        "print(train_df[['text', 'processed_text']].head())\n",
        "\n",
        "print(\"\\nПерші 5 рядків тестового набору даних до та після попередньої обробки:\")\n",
        "print(test_df[['text', 'processed_text']].head())"
      ]
    },
    {
      "cell_type": "markdown",
      "metadata": {
        "id": "Nps5jbSoSI_F"
      },
      "source": [
        "# Крок 3: Векторизація тексту"
      ]
    },
    {
      "cell_type": "markdown",
      "metadata": {
        "id": "Ak1QSMb-jpNr"
      },
      "source": [
        "На цьому кроці ми перетворимо попередньо оброблений текст на числові вектори, які можна буде використовувати для навчання моделей машинного навчання. Існує кілька поширених методів векторизації тексту:\n",
        "\n",
        "- Мішок слів (Bag-of-Words - BoW): Цей метод представляє кожен документ як набір слів, ігноруючи порядок їхнього розташування, але враховуючи частоту їхнього вживання.\n",
        "\n",
        "- TF-IDF (Term Frequency-Inverse Document Frequency): TF-IDF враховує не лише частоту слова в документі, але й обернену частоту документа, що дозволяє зменшити вагу загальновживаних слів і збільшити вагу рідкісних, але важливих слів.\n",
        "\n",
        "- Векторні представлення слів (Word Embeddings): Ці методи (наприклад, Word2Vec, GloVe, FastText) відображають кожне слово у векторний простір, де слова зі схожим значенням розташовуються близько одне до одного."
      ]
    },
    {
      "cell_type": "markdown",
      "metadata": {
        "id": "uIrwYCs5UbbM"
      },
      "source": []
    },
    {
      "cell_type": "markdown",
      "metadata": {
        "id": "-OTv5WtSlTSR"
      },
      "source": [
        "Ми почнемо з використання TF-IDF для векторизації нашого тексту. (Почнемо, бо раптом у майбутньому виявиться що тут слід використати щось інше, можливо, хоч і не факт)"
      ]
    },
    {
      "cell_type": "code",
      "source": [
        "from sklearn.feature_extraction.text import TfidfVectorizer\n",
        "\n",
        "vectorizer = TfidfVectorizer(\n",
        "    max_features=5000,  # Обмежити кількість фіч найчастішими\n",
        "    ngram_range=(1, 2),  # Включити уніграми та біграми\n",
        "    min_df=2,           # Ігнорувати слова, які зустрічаються рідше, ніж у min_df документах\n",
        "    # max_df=0.8        # Ігнорувати слова, які зустрічаються занадто часто (у >80% документів)\n",
        "    # stop_words='english' # Можна передати список стоп-слів сюди, замість ручного видалення раніше,\n",
        "                           # але ручна обробка дає більше контролю, наче як\n",
        ")\n",
        "train_vectors = vectorizer.fit_transform(train_df['processed_text'])\n",
        "test_vectors = vectorizer.transform(test_df['processed_text'])\n",
        "\n",
        "print(\"\\nРозмірність матриці ознак навчальних даних (TF-IDF):\", train_vectors.shape)\n",
        "print(\"Розмірність матриці ознак тестових даних (TF-IDF):\", test_vectors.shape)"
      ],
      "metadata": {
        "colab": {
          "base_uri": "https://localhost:8080/"
        },
        "id": "f7JNlLAPNgk-",
        "outputId": "fabce1e9-2b78-4fce-86b3-e526436c792f"
      },
      "execution_count": null,
      "outputs": [
        {
          "output_type": "stream",
          "name": "stdout",
          "text": [
            "\n",
            "Розмірність матриці ознак навчальних даних (TF-IDF): (7613, 5000)\n",
            "Розмірність матриці ознак тестових даних (TF-IDF): (3263, 5000)\n"
          ]
        }
      ]
    },
    {
      "cell_type": "markdown",
      "source": [],
      "metadata": {
        "id": "5RN_IGRFgFnE"
      }
    },
    {
      "cell_type": "markdown",
      "metadata": {
        "id": "laRccTa3WhFK"
      },
      "source": [
        "# Крок 4: Вибір моделі"
      ]
    },
    {
      "cell_type": "markdown",
      "metadata": {
        "id": "LGrGZZNfpOGM"
      },
      "source": [
        "На цьому кроці ми виберемо, навчимо та оцінимо кілька моделей машинного навчання для класифікації твітів про катастрофи. Враховуючи, що це задача бінарної класифікації, ми розглянемо такі моделі :\n",
        "\n",
        "- Логістична регресія\n",
        "- Наївний баєсів класифікатор\n",
        "- Метод опорних векторів (SVM)\n",
        "- Випадковий ліс"
      ]
    },
    {
      "cell_type": "code",
      "execution_count": null,
      "metadata": {
        "colab": {
          "base_uri": "https://localhost:8080/"
        },
        "id": "CBAQjKN--U6I",
        "outputId": "a9167a7f-4559-4bed-95ef-8ab98bdb2a01"
      },
      "outputs": [
        {
          "output_type": "stream",
          "name": "stdout",
          "text": [
            "Повторний тюнінг гіперпараметрів для логістичної регресії (з N-грамами)...\n",
            "Найкращі гіперпараметри для логістичної регресії (з N-грамами): {'C': 1, 'solver': 'lbfgs'}\n",
            "\n",
            "Звіт про класифікацію для найкращої моделі логістичної регресії (з N-грамами):\n",
            "              precision    recall  f1-score   support\n",
            "\n",
            "      Клас 0       0.81      0.91      0.85       869\n",
            "      Клас 1       0.85      0.71      0.77       654\n",
            "\n",
            "    accuracy                           0.82      1523\n",
            "   macro avg       0.83      0.81      0.81      1523\n",
            "weighted avg       0.83      0.82      0.82      1523\n",
            "\n",
            "F1-score для найкращої моделі логістичної регресії (з N-грамами): 0.7740\n",
            "\n",
            "Повторний тюнінг гіперпараметрів для наївного баєса (з N-грамами)...\n",
            "Найкращі гіперпараметри для наївного баєса (з N-грамами): {'alpha': 0.1}\n",
            "\n",
            "Звіт про класифікацію для найкращої моделі наївного баєса (з N-грамами):\n",
            "              precision    recall  f1-score   support\n",
            "\n",
            "      Клас 0       0.80      0.90      0.85       869\n",
            "      Клас 1       0.84      0.69      0.76       654\n",
            "\n",
            "    accuracy                           0.81      1523\n",
            "   macro avg       0.82      0.80      0.80      1523\n",
            "weighted avg       0.82      0.81      0.81      1523\n",
            "\n",
            "F1-score для найкращої моделі наївного баєса (з N-грамами): 0.7611\n",
            "\n",
            "Повторний тюнінг гіперпараметрів для SVM (з N-грамами)...\n",
            "Найкращі гіперпараметри для SVM (з N-грамами): {'C': 1, 'gamma': 'scale', 'kernel': 'linear'}\n",
            "\n",
            "Звіт про класифікацію для найкращої моделі SVM (з N-грамами):\n",
            "              precision    recall  f1-score   support\n",
            "\n",
            "      Клас 0       0.81      0.88      0.84       869\n",
            "      Клас 1       0.82      0.72      0.77       654\n",
            "\n",
            "    accuracy                           0.81      1523\n",
            "   macro avg       0.82      0.80      0.81      1523\n",
            "weighted avg       0.81      0.81      0.81      1523\n",
            "\n",
            "F1-score для найкращої моделі SVM (з N-грамами): 0.7697\n",
            "\n",
            "Повторний тюнінг гіперпараметрів для випадкового лісу (з N-грамами)...\n",
            "Найкращі гіперпараметри для випадкового лісу (з N-грамами): {'max_depth': None, 'min_samples_leaf': 1, 'min_samples_split': 10, 'n_estimators': 200}\n",
            "\n",
            "Звіт про класифікацію для найкращої моделі випадкового лісу (з N-грамами):\n",
            "              precision    recall  f1-score   support\n",
            "\n",
            "      Клас 0       0.81      0.85      0.83       869\n",
            "      Клас 1       0.79      0.74      0.76       654\n",
            "\n",
            "    accuracy                           0.80      1523\n",
            "   macro avg       0.80      0.80      0.80      1523\n",
            "weighted avg       0.80      0.80      0.80      1523\n",
            "\n",
            "F1-score для найкращої моделі випадкового лісу (з N-грамами): 0.7642\n",
            "\n",
            "--- Покращені результати F1-score (після повторного тюнінгу з N-грамами) для класу '1' (катастрофа) ---\n",
            "Логістична регресія (з N-грамами): 0.7740 (попередньо з уніграмами: 0.7524, з біграмами без тюнінгу: 0.7241)\n",
            "Наївний Баєс (з N-грамами): 0.7611 (попередньо з уніграмами: 0.7426, з біграмами без тюнінгу: 0.7351)\n",
            "SVM (з N-грамами): 0.7697 (попередньо з уніграмами: 0.7572, з біграмами без тюнінгу: 0.7479)\n",
            "Випадковий ліс (з N-грамами): 0.7642 (попередньо з уніграмами: 0.7322, з біграмами без тюнінгу: 0.7136)\n"
          ]
        }
      ],
      "source": [
        "from sklearn.model_selection import train_test_split, GridSearchCV\n",
        "from sklearn.linear_model import LogisticRegression\n",
        "from sklearn.naive_bayes import MultinomialNB\n",
        "from sklearn.svm import SVC\n",
        "from sklearn.ensemble import RandomForestClassifier\n",
        "from sklearn.metrics import classification_report, f1_score\n",
        "\n",
        "X_train, X_val, y_train, y_val = train_test_split(train_vectors, train_df['target'], test_size=0.2, random_state=42, stratify=train_df['target'])\n",
        "\n",
        "# ---------------------------------------------------------------------------\n",
        "# Тюнінг гіперпараметрів для логістичної регресії\n",
        "# ---------------------------------------------------------------------------\n",
        "print(\"Тюнінг гіперпараметрів для логістичної регресії...\")\n",
        "param_grid_lr = {'C': [0.001, 0.01, 0.1, 1, 10, 100],\n",
        "                 'solver': ['liblinear', 'lbfgs']}\n",
        "grid_search_lr = GridSearchCV(LogisticRegression(random_state=42), param_grid_lr, cv=5, scoring='f1')\n",
        "grid_search_lr.fit(X_train, y_train)\n",
        "print(\"Найкращі гіперпараметри для логістичної регресії:\", grid_search_lr.best_params_)\n",
        "best_lr_model_ngram = grid_search_lr.best_estimator_\n",
        "lr_predictions_ngram = best_lr_model_ngram.predict(X_val)\n",
        "print(\"\\nЗвіт про класифікацію для найкращої моделі логістичної регресії:\")\n",
        "print(classification_report(y_val, lr_predictions_ngram, target_names=['Клас 0', 'Клас 1']))\n",
        "f1_lr_tuned_ngram = f1_score(y_val, lr_predictions_ngram, pos_label=1)\n",
        "print(f\"F1-score для найкращої моделі логістичної регресії: {f1_lr_tuned_ngram:.4f}\")\n",
        "\n",
        "# ---------------------------------------------------------------------------\n",
        "# Тюнінг гіперпараметрів для наївного баєса\n",
        "# ---------------------------------------------------------------------------\n",
        "print(\"\\nТюнінг гіперпараметрів для наївного баєса...\")\n",
        "param_grid_nb = {'alpha': [0.01, 0.1, 0.5, 1.0, 2.0, 5.0]}\n",
        "grid_search_nb = GridSearchCV(MultinomialNB(), param_grid_nb, cv=5, scoring='f1')\n",
        "grid_search_nb.fit(X_train, y_train)\n",
        "print(\"Найкращі гіперпараметри для наївного баєса:\", grid_search_nb.best_params_)\n",
        "best_nb_model_ngram = grid_search_nb.best_estimator_\n",
        "nb_predictions_ngram = best_nb_model_ngram.predict(X_val)\n",
        "print(\"\\nЗвіт про класифікацію для найкращої моделі наївного баєса:\")\n",
        "print(classification_report(y_val, nb_predictions_ngram, target_names=['Клас 0', 'Клас 1']))\n",
        "f1_nb_tuned_ngram = f1_score(y_val, nb_predictions_ngram, pos_label=1)\n",
        "print(f\"F1-score для найкращої моделі наївного баєса: {f1_nb_tuned_ngram:.4f}\")\n",
        "\n",
        "# ---------------------------------------------------------------------------\n",
        "# Тюнінг гіперпараметрів для SVM\n",
        "# ---------------------------------------------------------------------------\n",
        "print(\"\\nТюнінг гіперпараметрів для SVM...\")\n",
        "param_grid_svm = {'C': [0.1, 1, 10, 100],\n",
        "                  'kernel': ['linear', 'rbf'],\n",
        "                  'gamma': ['scale', 'auto']}\n",
        "grid_search_svm = GridSearchCV(SVC(random_state=42), param_grid_svm, cv=5, scoring='f1')\n",
        "grid_search_svm.fit(X_train, y_train)\n",
        "print(\"Найкращі гіперпараметри для SVM:\", grid_search_svm.best_params_)\n",
        "best_svm_model_ngram = grid_search_svm.best_estimator_\n",
        "svm_predictions_ngram = best_svm_model_ngram.predict(X_val)\n",
        "print(\"\\nЗвіт про класифікацію для найкращої моделі SVM:\")\n",
        "print(classification_report(y_val, svm_predictions_ngram, target_names=['Клас 0', 'Клас 1']))\n",
        "f1_svm_tuned_ngram = f1_score(y_val, svm_predictions_ngram, pos_label=1)\n",
        "print(f\"F1-score для найкращої моделі SVM: {f1_svm_tuned_ngram:.4f}\")\n",
        "\n",
        "# ---------------------------------------------------------------------------\n",
        "# Тюнінг гіперпараметрів для випадкового лісу\n",
        "# ---------------------------------------------------------------------------\n",
        "print(\"\\nТюнінг гіперпараметрів для випадкового лісу...\")\n",
        "param_grid_rf = {'n_estimators': [50, 100, 200],\n",
        "                 'max_depth': [None, 10, 20, 30],\n",
        "                 'min_samples_split': [2, 5, 10],\n",
        "                 'min_samples_leaf': [1, 3, 5]}\n",
        "grid_search_rf = GridSearchCV(RandomForestClassifier(random_state=42), param_grid_rf, cv=5, scoring='f1')\n",
        "grid_search_rf.fit(X_train, y_train)\n",
        "print(\"Найкращі гіперпараметри для випадкового лісу:\", grid_search_rf.best_params_)\n",
        "best_rf_model_ngram = grid_search_rf.best_estimator_\n",
        "rf_predictions_ngram = best_rf_model_ngram.predict(X_val)\n",
        "print(\"\\nЗвіт про класифікацію для найкращої моделі випадкового лісу:\")\n",
        "print(classification_report(y_val, rf_predictions_ngram, target_names=['Клас 0', 'Клас 1']))\n",
        "f1_rf_tuned_ngram = f1_score(y_val, rf_predictions_ngram, pos_label=1)\n",
        "print(f\"F1-score для найкращої моделі випадкового лісу: {f1_rf_tuned_ngram:.4f}\")\n",
        "\n",
        "print(\"\\n--- Покращені результати F1-score для класу '1' (катастрофа) ---\")\n",
        "print(f\"Логістична регресія: {f1_lr_tuned_ngram:.4f}\")\n",
        "print(f\"Наївний Баєс: {f1_nb_tuned_ngram:.4f}\")\n",
        "print(f\"SVM: {f1_svm_tuned_ngram:.4f}\")\n",
        "print(f\"Випадковий ліс: {f1_rf_tuned_ngram:.4f}\")"
      ]
    },
    {
      "cell_type": "markdown",
      "metadata": {
        "id": "HjwBd20PUeg8"
      },
      "source": [
        "Модельки з найбільш оптимальними параметрами"
      ]
    },
    {
      "cell_type": "code",
      "execution_count": null,
      "metadata": {
        "colab": {
          "base_uri": "https://localhost:8080/"
        },
        "id": "ULnhUR-yUjrN",
        "outputId": "6b302f33-9445-45d9-eec4-8b0a5cef76bf"
      },
      "outputs": [
        {
          "output_type": "stream",
          "name": "stdout",
          "text": [
            "Навчання моделі логістичної регресії...\n",
            "\n",
            "Звіт про класифікацію для моделі логістичної регресії:\n",
            "                        precision    recall  f1-score   support\n",
            "\n",
            "Клас 0 (Не катастрофа)       0.81      0.84      0.82       869\n",
            "   Клас 1 (Катастрофа)       0.77      0.74      0.75       654\n",
            "\n",
            "              accuracy                           0.79      1523\n",
            "             macro avg       0.79      0.79      0.79      1523\n",
            "          weighted avg       0.79      0.79      0.79      1523\n",
            "\n",
            "F1-score (для класу '1' - катастрофа) для моделі логістичної регресії: 0.7545\n",
            "\n",
            "Навчання моделі наївного баєса...\n",
            "\n",
            "Звіт про класифікацію для моделі наївного баєса:\n",
            "                        precision    recall  f1-score   support\n",
            "\n",
            "Клас 0 (Не катастрофа)       0.79      0.91      0.85       869\n",
            "   Клас 1 (Катастрофа)       0.85      0.68      0.76       654\n",
            "\n",
            "              accuracy                           0.81      1523\n",
            "             macro avg       0.82      0.80      0.80      1523\n",
            "          weighted avg       0.82      0.81      0.81      1523\n",
            "\n",
            "F1-score (для класу '1' - катастрофа) для моделі наївного баєса: 0.7579\n",
            "\n",
            "Навчання моделі SVM...\n",
            "\n",
            "Звіт про класифікацію для моделі SVM:\n",
            "                        precision    recall  f1-score   support\n",
            "\n",
            "Клас 0 (Не катастрофа)       0.81      0.88      0.84       869\n",
            "   Клас 1 (Катастрофа)       0.82      0.72      0.77       654\n",
            "\n",
            "              accuracy                           0.81      1523\n",
            "             macro avg       0.82      0.80      0.81      1523\n",
            "          weighted avg       0.81      0.81      0.81      1523\n",
            "\n",
            "F1-score (для класу '1' - катастрофа) для моделі SVM: 0.7697\n",
            "\n",
            "Навчання моделі випадкового лісу...\n",
            "\n",
            "Звіт про класифікацію для моделі випадкового лісу:\n",
            "                        precision    recall  f1-score   support\n",
            "\n",
            "Клас 0 (Не катастрофа)       0.81      0.87      0.84       869\n",
            "   Клас 1 (Катастрофа)       0.81      0.73      0.76       654\n",
            "\n",
            "              accuracy                           0.81      1523\n",
            "             macro avg       0.81      0.80      0.80      1523\n",
            "          weighted avg       0.81      0.81      0.81      1523\n",
            "\n",
            "F1-score (для класу '1' - катастрофа) для моделі випадкового лісу: 0.7643\n",
            "\n",
            "--- Загальні результати F1-score для класу '1' (катастрофа) ---\n",
            "Логістична регресія: 0.7545\n",
            "Наївний Баєс: 0.7579\n",
            "SVM: 0.7697\n",
            "Випадковий ліс: 0.7643\n"
          ]
        }
      ],
      "source": [
        "from sklearn.model_selection import train_test_split\n",
        "from sklearn.linear_model import LogisticRegression\n",
        "from sklearn.naive_bayes import MultinomialNB\n",
        "from sklearn.svm import SVC\n",
        "from sklearn.ensemble import RandomForestClassifier\n",
        "from sklearn.metrics import classification_report, f1_score\n",
        "\n",
        "X_train, X_val, y_train, y_val = train_test_split(train_vectors, train_df['target'], test_size=0.2, random_state=42, stratify=train_df['target'])\n",
        "\n",
        "# ---------------------------------------------------------------------------\n",
        "# Модель логістичної регресії\n",
        "# ---------------------------------------------------------------------------\n",
        "print(\"Навчання моделі логістичної регресії...\")\n",
        "lr_model = LogisticRegression(random_state=42, solver='lbfgs', C=1)\n",
        "lr_model.fit(X_train, y_train)\n",
        "lr_predictions = lr_model.predict(X_val)\n",
        "\n",
        "print(\"\\nЗвіт про класифікацію для моделі логістичної регресії:\")\n",
        "print(classification_report(y_val, lr_predictions, target_names=['Клас 0 (Не катастрофа)', 'Клас 1 (Катастрофа)']))\n",
        "\n",
        "f1_lr = f1_score(y_val, lr_predictions, pos_label=1)\n",
        "print(f\"F1-score (для класу '1' - катастрофа) для моделі логістичної регресії: {f1_lr:.4f}\")\n",
        "\n",
        "# ---------------------------------------------------------------------------\n",
        "# Модель наївного баєса\n",
        "# ---------------------------------------------------------------------------\n",
        "print(\"\\nНавчання моделі наївного баєса...\")\n",
        "nb_model = MultinomialNB(alpha=0.1)\n",
        "nb_model.fit(X_train, y_train)\n",
        "nb_predictions = nb_model.predict(X_val)\n",
        "\n",
        "print(\"\\nЗвіт про класифікацію для моделі наївного баєса:\")\n",
        "print(classification_report(y_val, nb_predictions, target_names=['Клас 0 (Не катастрофа)', 'Клас 1 (Катастрофа)']))\n",
        "\n",
        "f1_nb = f1_score(y_val, nb_predictions, pos_label=1)\n",
        "print(f\"F1-score (для класу '1' - катастрофа) для моделі наївного баєса: {f1_nb:.4f}\")\n",
        "\n",
        "# ---------------------------------------------------------------------------\n",
        "# Модель опорних векторів (SVM)\n",
        "# ---------------------------------------------------------------------------\n",
        "print(\"\\nНавчання моделі SVM...\")\n",
        "svm_model = SVC(random_state=42, kernel='linear', C=1, gamma='scale')\n",
        "svm_model.fit(X_train, y_train)\n",
        "svm_predictions = svm_model.predict(X_val)\n",
        "\n",
        "print(\"\\nЗвіт про класифікацію для моделі SVM:\")\n",
        "print(classification_report(y_val, svm_predictions, target_names=['Клас 0 (Не катастрофа)', 'Клас 1 (Катастрофа)']))\n",
        "\n",
        "f1_svm = f1_score(y_val, svm_predictions, pos_label=1)\n",
        "print(f\"F1-score (для класу '1' - катастрофа) для моделі SVM: {f1_svm:.4f}\")\n",
        "\n",
        "# ---------------------------------------------------------------------------\n",
        "# Модель випадкового лісу\n",
        "# ---------------------------------------------------------------------------\n",
        "print(\"\\nНавчання моделі випадкового лісу...\")\n",
        "rf_model = RandomForestClassifier(random_state=42, n_estimators=100, max_depth=None, min_samples_split=10, min_samples_leaf=3)\n",
        "rf_model.fit(X_train, y_train)\n",
        "rf_predictions = rf_model.predict(X_val)\n",
        "\n",
        "print(\"\\nЗвіт про класифікацію для моделі випадкового лісу:\")\n",
        "print(classification_report(y_val, rf_predictions, target_names=['Клас 0 (Не катастрофа)', 'Клас 1 (Катастрофа)']))\n",
        "\n",
        "f1_rf = f1_score(y_val, rf_predictions, pos_label=1)\n",
        "print(f\"F1-score (для класу '1' - катастрофа) для моделі випадкового лісу: {f1_rf:.4f}\")\n",
        "\n",
        "print(\"\\n--- Загальні результати F1-score для класу '1' (катастрофа) ---\")\n",
        "print(f\"Логістична регресія: {f1_lr:.4f}\")\n",
        "print(f\"Наївний Баєс: {f1_nb:.4f}\")\n",
        "print(f\"SVM: {f1_svm:.4f}\")\n",
        "print(f\"Випадковий ліс: {f1_rf:.4f}\")"
      ]
    },
    {
      "cell_type": "markdown",
      "metadata": {
        "id": "c0L5IrQQSRhl"
      },
      "source": [
        "# Крок 5: Можливо, тут щось буде...\n"
      ]
    },
    {
      "cell_type": "markdown",
      "metadata": {
        "id": "LEmNoCusw-dF"
      },
      "source": [
        "Що ж... і от ми тут!) Щось явно пішло не так, того пробуєм щось інше"
      ]
    }
  ],
  "metadata": {
    "colab": {
      "provenance": [],
      "authorship_tag": "ABX9TyP3rCzheCXKo0VOBiJK3J3+",
      "include_colab_link": true
    },
    "kernelspec": {
      "display_name": "Python 3",
      "name": "python3"
    },
    "language_info": {
      "name": "python"
    }
  },
  "nbformat": 4,
  "nbformat_minor": 0
}